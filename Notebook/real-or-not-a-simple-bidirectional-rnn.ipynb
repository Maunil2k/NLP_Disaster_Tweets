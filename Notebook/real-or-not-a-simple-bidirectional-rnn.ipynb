{
 "cells": [
  {
   "cell_type": "markdown",
   "id": "1cf97a1e",
   "metadata": {
    "papermill": {
     "duration": 0.020248,
     "end_time": "2022-04-08T05:59:31.303577",
     "exception": false,
     "start_time": "2022-04-08T05:59:31.283329",
     "status": "completed"
    },
    "tags": []
   },
   "source": [
    "## This is NLP based classification problem is solved using a simple Bidirectional LSTM based RNN. \n",
    "## If you like my work then do consider upvoting this notebook."
   ]
  },
  {
   "cell_type": "code",
   "execution_count": 1,
   "id": "3debe90a",
   "metadata": {
    "_cell_guid": "b1076dfc-b9ad-4769-8c92-a6c4dae69d19",
    "_uuid": "8f2839f25d086af736a60e9eeb907d3b93b6e0e5",
    "execution": {
     "iopub.execute_input": "2022-04-08T05:59:31.364359Z",
     "iopub.status.busy": "2022-04-08T05:59:31.363502Z",
     "iopub.status.idle": "2022-04-08T05:59:38.079491Z",
     "shell.execute_reply": "2022-04-08T05:59:38.078461Z",
     "shell.execute_reply.started": "2022-04-08T05:52:29.857860Z"
    },
    "papermill": {
     "duration": 6.756044,
     "end_time": "2022-04-08T05:59:38.079674",
     "exception": false,
     "start_time": "2022-04-08T05:59:31.323630",
     "status": "completed"
    },
    "tags": []
   },
   "outputs": [],
   "source": [
    "import numpy as np\n",
    "import pandas as pd\n",
    "import os, re, unidecode, random, math\n",
    "from bs4 import BeautifulSoup\n",
    "from nltk.corpus import stopwords\n",
    "from nltk.tokenize import word_tokenize\n",
    "from imblearn.under_sampling import RandomUnderSampler\n",
    "from sklearn.model_selection import StratifiedKFold\n",
    "from sklearn.metrics import accuracy_score\n",
    "from tqdm import tqdm\n",
    "import matplotlib.pyplot as plt\n",
    "\n",
    "import tensorflow as tf\n",
    "from tensorflow.keras.layers import Dense, Dropout, Embedding, LSTM, Bidirectional\n",
    "from tensorflow.keras.models import Sequential, Model, load_model\n",
    "from tensorflow.keras.preprocessing.sequence import pad_sequences\n",
    "from tensorflow.keras.preprocessing.text import Tokenizer\n",
    "from tensorflow.keras.optimizers import Adam\n",
    "from tensorflow.keras.callbacks import EarlyStopping, ModelCheckpoint, ReduceLROnPlateau\n",
    "from tensorflow.keras.regularizers import L1L2"
   ]
  },
  {
   "cell_type": "code",
   "execution_count": 2,
   "id": "eadb57c0",
   "metadata": {
    "execution": {
     "iopub.execute_input": "2022-04-08T05:59:38.117806Z",
     "iopub.status.busy": "2022-04-08T05:59:38.117057Z",
     "iopub.status.idle": "2022-04-08T05:59:38.120320Z",
     "shell.execute_reply": "2022-04-08T05:59:38.120962Z",
     "shell.execute_reply.started": "2022-04-08T05:52:29.867341Z"
    },
    "papermill": {
     "duration": 0.027089,
     "end_time": "2022-04-08T05:59:38.121145",
     "exception": false,
     "start_time": "2022-04-08T05:59:38.094056",
     "status": "completed"
    },
    "tags": []
   },
   "outputs": [
    {
     "name": "stdout",
     "output_type": "stream",
     "text": [
      "seeded everything to get same output\n"
     ]
    }
   ],
   "source": [
    "def data_cleaner(data):\n",
    "    data = data.replace('\\\\n', ' ').replace('\\n', ' ').replace('\\t',' ').replace('\\\\', ' ').replace('. com', '.com')\n",
    "    \n",
    "    soup = BeautifulSoup(data, 'html.parser')\n",
    "    data = soup.get_text(separator=' ')\n",
    "    \n",
    "    remove_http = re.sub(r'http\\S+', '', data)\n",
    "    data = re.sub(r\"\\ [A-Za-z]*\\.com\", \" \", remove_http)\n",
    "    \n",
    "    data = unidecode.unidecode(data)\n",
    "    data = data.lower()\n",
    "    data = re.sub(r\"[^a-zA-Z0-9:$-,()%.?!]+\", ' ', data) \n",
    "    data = re.sub(r\"[:$-,()%.?!]+\", ' ',data)\n",
    "    \n",
    "    stoplist = stopwords.words(\"english\")\n",
    "    data = [word for word in word_tokenize(data) if word not in stoplist]\n",
    "    data = \" \".join(data)\n",
    "    \n",
    "    return data\n",
    "\n",
    "def seed_everything(SEED = 13):\n",
    "    np.random.seed(SEED)\n",
    "    random.seed(SEED)\n",
    "    tf.random.set_seed(SEED)\n",
    "    os.environ['TF_CPP_MIN_LOG_LEVEL'] = '2'\n",
    "    os.environ['PYTHONHASHSEED'] = str(SEED)\n",
    "    \n",
    "seed_everything()\n",
    "print('seeded everything to get same output')"
   ]
  },
  {
   "cell_type": "code",
   "execution_count": 3,
   "id": "64d21ba8",
   "metadata": {
    "execution": {
     "iopub.execute_input": "2022-04-08T05:59:38.153788Z",
     "iopub.status.busy": "2022-04-08T05:59:38.151035Z",
     "iopub.status.idle": "2022-04-08T05:59:38.204711Z",
     "shell.execute_reply": "2022-04-08T05:59:38.205216Z",
     "shell.execute_reply.started": "2022-04-08T05:52:29.881733Z"
    },
    "papermill": {
     "duration": 0.069731,
     "end_time": "2022-04-08T05:59:38.205369",
     "exception": false,
     "start_time": "2022-04-08T05:59:38.135638",
     "status": "completed"
    },
    "tags": []
   },
   "outputs": [
    {
     "data": {
      "text/html": [
       "<div>\n",
       "<style scoped>\n",
       "    .dataframe tbody tr th:only-of-type {\n",
       "        vertical-align: middle;\n",
       "    }\n",
       "\n",
       "    .dataframe tbody tr th {\n",
       "        vertical-align: top;\n",
       "    }\n",
       "\n",
       "    .dataframe thead th {\n",
       "        text-align: right;\n",
       "    }\n",
       "</style>\n",
       "<table border=\"1\" class=\"dataframe\">\n",
       "  <thead>\n",
       "    <tr style=\"text-align: right;\">\n",
       "      <th></th>\n",
       "      <th>id</th>\n",
       "      <th>keyword</th>\n",
       "      <th>location</th>\n",
       "      <th>text</th>\n",
       "      <th>target</th>\n",
       "    </tr>\n",
       "  </thead>\n",
       "  <tbody>\n",
       "    <tr>\n",
       "      <th>0</th>\n",
       "      <td>1</td>\n",
       "      <td>NaN</td>\n",
       "      <td>NaN</td>\n",
       "      <td>Our Deeds are the Reason of this #earthquake M...</td>\n",
       "      <td>1</td>\n",
       "    </tr>\n",
       "    <tr>\n",
       "      <th>1</th>\n",
       "      <td>4</td>\n",
       "      <td>NaN</td>\n",
       "      <td>NaN</td>\n",
       "      <td>Forest fire near La Ronge Sask. Canada</td>\n",
       "      <td>1</td>\n",
       "    </tr>\n",
       "    <tr>\n",
       "      <th>2</th>\n",
       "      <td>5</td>\n",
       "      <td>NaN</td>\n",
       "      <td>NaN</td>\n",
       "      <td>All residents asked to 'shelter in place' are ...</td>\n",
       "      <td>1</td>\n",
       "    </tr>\n",
       "    <tr>\n",
       "      <th>3</th>\n",
       "      <td>6</td>\n",
       "      <td>NaN</td>\n",
       "      <td>NaN</td>\n",
       "      <td>13,000 people receive #wildfires evacuation or...</td>\n",
       "      <td>1</td>\n",
       "    </tr>\n",
       "    <tr>\n",
       "      <th>4</th>\n",
       "      <td>7</td>\n",
       "      <td>NaN</td>\n",
       "      <td>NaN</td>\n",
       "      <td>Just got sent this photo from Ruby #Alaska as ...</td>\n",
       "      <td>1</td>\n",
       "    </tr>\n",
       "  </tbody>\n",
       "</table>\n",
       "</div>"
      ],
      "text/plain": [
       "   id keyword location                                               text  \\\n",
       "0   1     NaN      NaN  Our Deeds are the Reason of this #earthquake M...   \n",
       "1   4     NaN      NaN             Forest fire near La Ronge Sask. Canada   \n",
       "2   5     NaN      NaN  All residents asked to 'shelter in place' are ...   \n",
       "3   6     NaN      NaN  13,000 people receive #wildfires evacuation or...   \n",
       "4   7     NaN      NaN  Just got sent this photo from Ruby #Alaska as ...   \n",
       "\n",
       "   target  \n",
       "0       1  \n",
       "1       1  \n",
       "2       1  \n",
       "3       1  \n",
       "4       1  "
      ]
     },
     "execution_count": 3,
     "metadata": {},
     "output_type": "execute_result"
    }
   ],
   "source": [
    "train_df = pd.read_csv('../input/nlp-getting-started/train.csv')\n",
    "train_df.head()"
   ]
  },
  {
   "cell_type": "code",
   "execution_count": 4,
   "id": "3186d667",
   "metadata": {
    "execution": {
     "iopub.execute_input": "2022-04-08T05:59:38.236289Z",
     "iopub.status.busy": "2022-04-08T05:59:38.235455Z",
     "iopub.status.idle": "2022-04-08T05:59:38.249089Z",
     "shell.execute_reply": "2022-04-08T05:59:38.248632Z",
     "shell.execute_reply.started": "2022-04-08T05:52:29.916787Z"
    },
    "papermill": {
     "duration": 0.029733,
     "end_time": "2022-04-08T05:59:38.249233",
     "exception": false,
     "start_time": "2022-04-08T05:59:38.219500",
     "status": "completed"
    },
    "tags": []
   },
   "outputs": [
    {
     "data": {
      "text/html": [
       "<div>\n",
       "<style scoped>\n",
       "    .dataframe tbody tr th:only-of-type {\n",
       "        vertical-align: middle;\n",
       "    }\n",
       "\n",
       "    .dataframe tbody tr th {\n",
       "        vertical-align: top;\n",
       "    }\n",
       "\n",
       "    .dataframe thead th {\n",
       "        text-align: right;\n",
       "    }\n",
       "</style>\n",
       "<table border=\"1\" class=\"dataframe\">\n",
       "  <thead>\n",
       "    <tr style=\"text-align: right;\">\n",
       "      <th></th>\n",
       "      <th>text</th>\n",
       "      <th>target</th>\n",
       "    </tr>\n",
       "  </thead>\n",
       "  <tbody>\n",
       "    <tr>\n",
       "      <th>0</th>\n",
       "      <td>Our Deeds are the Reason of this #earthquake M...</td>\n",
       "      <td>1</td>\n",
       "    </tr>\n",
       "    <tr>\n",
       "      <th>1</th>\n",
       "      <td>Forest fire near La Ronge Sask. Canada</td>\n",
       "      <td>1</td>\n",
       "    </tr>\n",
       "    <tr>\n",
       "      <th>2</th>\n",
       "      <td>All residents asked to 'shelter in place' are ...</td>\n",
       "      <td>1</td>\n",
       "    </tr>\n",
       "    <tr>\n",
       "      <th>3</th>\n",
       "      <td>13,000 people receive #wildfires evacuation or...</td>\n",
       "      <td>1</td>\n",
       "    </tr>\n",
       "    <tr>\n",
       "      <th>4</th>\n",
       "      <td>Just got sent this photo from Ruby #Alaska as ...</td>\n",
       "      <td>1</td>\n",
       "    </tr>\n",
       "  </tbody>\n",
       "</table>\n",
       "</div>"
      ],
      "text/plain": [
       "                                                text  target\n",
       "0  Our Deeds are the Reason of this #earthquake M...       1\n",
       "1             Forest fire near La Ronge Sask. Canada       1\n",
       "2  All residents asked to 'shelter in place' are ...       1\n",
       "3  13,000 people receive #wildfires evacuation or...       1\n",
       "4  Just got sent this photo from Ruby #Alaska as ...       1"
      ]
     },
     "execution_count": 4,
     "metadata": {},
     "output_type": "execute_result"
    }
   ],
   "source": [
    "del train_df['id']\n",
    "del train_df['keyword']\n",
    "del train_df['location']\n",
    "train_df.head()"
   ]
  },
  {
   "cell_type": "code",
   "execution_count": 5,
   "id": "1cc5a90b",
   "metadata": {
    "execution": {
     "iopub.execute_input": "2022-04-08T05:59:38.283947Z",
     "iopub.status.busy": "2022-04-08T05:59:38.280429Z",
     "iopub.status.idle": "2022-04-08T05:59:38.287320Z",
     "shell.execute_reply": "2022-04-08T05:59:38.288340Z",
     "shell.execute_reply.started": "2022-04-08T05:52:29.931688Z"
    },
    "papermill": {
     "duration": 0.024759,
     "end_time": "2022-04-08T05:59:38.288507",
     "exception": false,
     "start_time": "2022-04-08T05:59:38.263748",
     "status": "completed"
    },
    "tags": []
   },
   "outputs": [
    {
     "name": "stdout",
     "output_type": "stream",
     "text": [
      "(7613, 2)\n",
      "0    4342\n",
      "1    3271\n",
      "Name: target, dtype: int64\n"
     ]
    }
   ],
   "source": [
    "print(train_df.shape)\n",
    "print(train_df.target.value_counts())"
   ]
  },
  {
   "cell_type": "code",
   "execution_count": 6,
   "id": "988e2f9d",
   "metadata": {
    "execution": {
     "iopub.execute_input": "2022-04-08T05:59:38.321936Z",
     "iopub.status.busy": "2022-04-08T05:59:38.320775Z",
     "iopub.status.idle": "2022-04-08T05:59:42.313505Z",
     "shell.execute_reply": "2022-04-08T05:59:42.314033Z",
     "shell.execute_reply.started": "2022-04-08T05:52:29.939893Z"
    },
    "papermill": {
     "duration": 4.011198,
     "end_time": "2022-04-08T05:59:42.314180",
     "exception": false,
     "start_time": "2022-04-08T05:59:38.302982",
     "status": "completed"
    },
    "tags": []
   },
   "outputs": [
    {
     "name": "stderr",
     "output_type": "stream",
     "text": [
      "100%|██████████| 7613/7613 [00:03<00:00, 1914.04it/s]\n"
     ]
    },
    {
     "data": {
      "text/html": [
       "<div>\n",
       "<style scoped>\n",
       "    .dataframe tbody tr th:only-of-type {\n",
       "        vertical-align: middle;\n",
       "    }\n",
       "\n",
       "    .dataframe tbody tr th {\n",
       "        vertical-align: top;\n",
       "    }\n",
       "\n",
       "    .dataframe thead th {\n",
       "        text-align: right;\n",
       "    }\n",
       "</style>\n",
       "<table border=\"1\" class=\"dataframe\">\n",
       "  <thead>\n",
       "    <tr style=\"text-align: right;\">\n",
       "      <th></th>\n",
       "      <th>text</th>\n",
       "      <th>target</th>\n",
       "    </tr>\n",
       "  </thead>\n",
       "  <tbody>\n",
       "    <tr>\n",
       "      <th>0</th>\n",
       "      <td>deeds reason earthquake may allah forgive us</td>\n",
       "      <td>1</td>\n",
       "    </tr>\n",
       "    <tr>\n",
       "      <th>1</th>\n",
       "      <td>forest fire near la ronge sask canada</td>\n",
       "      <td>1</td>\n",
       "    </tr>\n",
       "    <tr>\n",
       "      <th>2</th>\n",
       "      <td>residents asked shelter place notified officer...</td>\n",
       "      <td>1</td>\n",
       "    </tr>\n",
       "    <tr>\n",
       "      <th>3</th>\n",
       "      <td>13 000 people receive wildfires evacuation ord...</td>\n",
       "      <td>1</td>\n",
       "    </tr>\n",
       "    <tr>\n",
       "      <th>4</th>\n",
       "      <td>got sent photo ruby alaska smoke wildfires pou...</td>\n",
       "      <td>1</td>\n",
       "    </tr>\n",
       "  </tbody>\n",
       "</table>\n",
       "</div>"
      ],
      "text/plain": [
       "                                                text  target\n",
       "0       deeds reason earthquake may allah forgive us       1\n",
       "1              forest fire near la ronge sask canada       1\n",
       "2  residents asked shelter place notified officer...       1\n",
       "3  13 000 people receive wildfires evacuation ord...       1\n",
       "4  got sent photo ruby alaska smoke wildfires pou...       1"
      ]
     },
     "execution_count": 6,
     "metadata": {},
     "output_type": "execute_result"
    }
   ],
   "source": [
    "train_df['text'] = [data_cleaner(train_df['text'][i]) for i in tqdm(range(train_df.shape[0]))]\n",
    "train_df.head()"
   ]
  },
  {
   "cell_type": "code",
   "execution_count": 7,
   "id": "1436a87c",
   "metadata": {
    "execution": {
     "iopub.execute_input": "2022-04-08T05:59:42.374517Z",
     "iopub.status.busy": "2022-04-08T05:59:42.373992Z",
     "iopub.status.idle": "2022-04-08T05:59:46.286496Z",
     "shell.execute_reply": "2022-04-08T05:59:46.285925Z",
     "shell.execute_reply.started": "2022-04-08T05:52:33.838946Z"
    },
    "papermill": {
     "duration": 3.946973,
     "end_time": "2022-04-08T05:59:46.286616",
     "exception": false,
     "start_time": "2022-04-08T05:59:42.339643",
     "status": "completed"
    },
    "tags": []
   },
   "outputs": [
    {
     "name": "stdout",
     "output_type": "stream",
     "text": [
      "Model: \"Bidirectional_RNN\"\n",
      "_________________________________________________________________\n",
      "Layer (type)                 Output Shape              Param #   \n",
      "=================================================================\n",
      "embedding (Embedding)        (None, 256, 256)          256000    \n",
      "_________________________________________________________________\n",
      "bidirectional (Bidirectional (None, 256, 256)          394240    \n",
      "_________________________________________________________________\n",
      "dropout (Dropout)            (None, 256, 256)          0         \n",
      "_________________________________________________________________\n",
      "bidirectional_1 (Bidirection (None, 256, 128)          164352    \n",
      "_________________________________________________________________\n",
      "dropout_1 (Dropout)          (None, 256, 128)          0         \n",
      "_________________________________________________________________\n",
      "bidirectional_2 (Bidirection (None, 64)                41216     \n",
      "_________________________________________________________________\n",
      "dropout_2 (Dropout)          (None, 64)                0         \n",
      "_________________________________________________________________\n",
      "dense (Dense)                (None, 256)               16640     \n",
      "_________________________________________________________________\n",
      "dropout_3 (Dropout)          (None, 256)               0         \n",
      "_________________________________________________________________\n",
      "dense_1 (Dense)              (None, 16)                4112      \n",
      "_________________________________________________________________\n",
      "dropout_4 (Dropout)          (None, 16)                0         \n",
      "_________________________________________________________________\n",
      "dense_2 (Dense)              (None, 1)                 17        \n",
      "=================================================================\n",
      "Total params: 876,577\n",
      "Trainable params: 876,577\n",
      "Non-trainable params: 0\n",
      "_________________________________________________________________\n",
      "None\n"
     ]
    }
   ],
   "source": [
    "def myModel():    \n",
    "    model = Sequential(name='Bidirectional_RNN')\n",
    "    model.add(Embedding(1000, 256, input_length = 256))\n",
    "    #model.add(Bidirectional((LSTM(512, return_sequences = True, recurrent_dropout=0.0, kernel_regularizer = L1L2(l1=0.0, l2=0.01)))))\n",
    "    #model.add(Dropout(0.5))\n",
    "    #model.add(Bidirectional((LSTM(512, return_sequences = True, recurrent_dropout=0.0))))\n",
    "    #model.add(Dropout(0.5))\n",
    "    \n",
    "    #model.add(Bidirectional(LSTM(256, return_sequences = True, recurrent_dropout=0.0, kernel_regularizer = L1L2(l1=0.0, l2=0.01))))\n",
    "    #model.add(Dropout(0.5))\n",
    "    \n",
    "    #model.add(Bidirectional(LSTM(128, return_sequences = True, recurrent_dropout=0.0, kernel_regularizer = L1L2(l1=0.0, l2=0.01))))\n",
    "    #model.add(Dropout(0.5))\n",
    "    model.add(Bidirectional(LSTM(128, return_sequences = True, recurrent_dropout=0.0, kernel_regularizer = L1L2(l1=0.0, l2=0.01))))\n",
    "    model.add(Dropout(0.5))\n",
    "    \n",
    "    model.add(Bidirectional(LSTM(64, return_sequences = True, recurrent_dropout=0.0, kernel_regularizer = L1L2(l1=0.0, l2=0.01))))\n",
    "    model.add(Dropout(0.5))\n",
    "    \n",
    "    model.add(Bidirectional(LSTM(32, return_sequences = False, recurrent_dropout=0.0, kernel_regularizer = L1L2(l1=0.0, l2=0.01))))\n",
    "    model.add(Dropout(0.4))\n",
    "    #model.add(Bidirectional(LSTM(32, return_sequences = False, recurrent_dropout=0.0, kernel_regularizer = L1L2(l1=0.0, l2=0.01))))\n",
    "    #model.add(Dropout(0.4))\n",
    "    \n",
    "    model.add(Dense(256, activation = 'relu'))\n",
    "    model.add(Dropout(0.2))\n",
    "    model.add(Dense(16, activation = 'relu'))\n",
    "    model.add(Dropout(0.1))\n",
    "    \n",
    "    model.add(Dense(1, activation = 'sigmoid'))\n",
    "    print(model.summary())\n",
    "    return model\n",
    "\n",
    "model = myModel()    \n",
    "model.compile(\n",
    "optimizer=Adam(learning_rate=0.0001),\n",
    "loss='binary_crossentropy',\n",
    "metrics=['Accuracy']\n",
    ")"
   ]
  },
  {
   "cell_type": "code",
   "execution_count": 8,
   "id": "d250fda1",
   "metadata": {
    "execution": {
     "iopub.execute_input": "2022-04-08T05:59:46.350997Z",
     "iopub.status.busy": "2022-04-08T05:59:46.350071Z",
     "iopub.status.idle": "2022-04-08T05:59:46.605054Z",
     "shell.execute_reply": "2022-04-08T05:59:46.605701Z",
     "shell.execute_reply.started": "2022-04-08T05:52:37.670099Z"
    },
    "papermill": {
     "duration": 0.294278,
     "end_time": "2022-04-08T05:59:46.605920",
     "exception": false,
     "start_time": "2022-04-08T05:59:46.311642",
     "status": "completed"
    },
    "tags": []
   },
   "outputs": [
    {
     "name": "stdout",
     "output_type": "stream",
     "text": [
      "generated pad sequences\n"
     ]
    }
   ],
   "source": [
    "text = train_df['text']\n",
    "tokenizer = Tokenizer(num_words=1000)\n",
    "tokenizer.fit_on_texts(text.values)\n",
    "x_train = tokenizer.texts_to_sequences(text.values)\n",
    "x_train = pad_sequences(x_train, maxlen=256)\n",
    "print('generated pad sequences')"
   ]
  },
  {
   "cell_type": "code",
   "execution_count": 9,
   "id": "c8b3a032",
   "metadata": {
    "execution": {
     "iopub.execute_input": "2022-04-08T05:59:46.666084Z",
     "iopub.status.busy": "2022-04-08T05:59:46.661607Z",
     "iopub.status.idle": "2022-04-08T06:04:09.383579Z",
     "shell.execute_reply": "2022-04-08T06:04:09.383007Z",
     "shell.execute_reply.started": "2022-04-08T05:52:42.330993Z"
    },
    "papermill": {
     "duration": 262.751341,
     "end_time": "2022-04-08T06:04:09.383791",
     "exception": false,
     "start_time": "2022-04-08T05:59:46.632450",
     "status": "completed"
    },
    "tags": []
   },
   "outputs": [
    {
     "name": "stdout",
     "output_type": "stream",
     "text": [
      "Epoch 1/100\n",
      "96/96 [==============================] - 19s 109ms/step - loss: 13.3608 - Accuracy: 0.5749 - val_loss: 11.6226 - val_Accuracy: 0.5345\n",
      "Epoch 2/100\n",
      "96/96 [==============================] - 9s 91ms/step - loss: 10.2082 - Accuracy: 0.5793 - val_loss: 8.8917 - val_Accuracy: 0.5345\n",
      "Epoch 3/100\n",
      "96/96 [==============================] - 9s 92ms/step - loss: 7.8124 - Accuracy: 0.5793 - val_loss: 6.8168 - val_Accuracy: 0.5345\n",
      "Epoch 4/100\n",
      "96/96 [==============================] - 9s 94ms/step - loss: 5.9407 - Accuracy: 0.6658 - val_loss: 5.1167 - val_Accuracy: 0.7708\n",
      "Epoch 5/100\n",
      "96/96 [==============================] - 9s 94ms/step - loss: 4.4565 - Accuracy: 0.8049 - val_loss: 3.9356 - val_Accuracy: 0.7689\n",
      "Epoch 6/100\n",
      "96/96 [==============================] - 9s 93ms/step - loss: 3.4160 - Accuracy: 0.8171 - val_loss: 3.0295 - val_Accuracy: 0.7833\n",
      "Epoch 7/100\n",
      "96/96 [==============================] - 9s 94ms/step - loss: 2.6280 - Accuracy: 0.8322 - val_loss: 2.3850 - val_Accuracy: 0.7617\n",
      "Epoch 8/100\n",
      "96/96 [==============================] - 9s 94ms/step - loss: 2.0538 - Accuracy: 0.8343 - val_loss: 1.9066 - val_Accuracy: 0.7446\n",
      "Epoch 9/100\n",
      "96/96 [==============================] - 9s 93ms/step - loss: 1.6382 - Accuracy: 0.8274 - val_loss: 1.5195 - val_Accuracy: 0.7754\n",
      "Epoch 10/100\n",
      "96/96 [==============================] - 9s 94ms/step - loss: 1.3135 - Accuracy: 0.8388 - val_loss: 1.2734 - val_Accuracy: 0.7689\n",
      "Epoch 11/100\n",
      "96/96 [==============================] - 9s 94ms/step - loss: 1.0818 - Accuracy: 0.8420 - val_loss: 1.0740 - val_Accuracy: 0.7735\n",
      "Epoch 12/100\n",
      "96/96 [==============================] - 9s 93ms/step - loss: 0.9010 - Accuracy: 0.8470 - val_loss: 0.9848 - val_Accuracy: 0.7295\n",
      "Epoch 13/100\n",
      "96/96 [==============================] - 9s 92ms/step - loss: 0.7759 - Accuracy: 0.8504 - val_loss: 0.8349 - val_Accuracy: 0.7630\n",
      "Epoch 14/100\n",
      "96/96 [==============================] - 9s 94ms/step - loss: 0.6855 - Accuracy: 0.8507 - val_loss: 0.7554 - val_Accuracy: 0.7781\n",
      "Epoch 15/100\n",
      "96/96 [==============================] - 9s 93ms/step - loss: 0.6158 - Accuracy: 0.8545 - val_loss: 0.8620 - val_Accuracy: 0.6875\n",
      "Epoch 16/100\n",
      "96/96 [==============================] - 9s 97ms/step - loss: 0.5734 - Accuracy: 0.8488 - val_loss: 0.7137 - val_Accuracy: 0.7446\n",
      "Epoch 17/100\n",
      "96/96 [==============================] - 9s 93ms/step - loss: 0.5280 - Accuracy: 0.8576 - val_loss: 0.6914 - val_Accuracy: 0.7413\n",
      "Epoch 18/100\n",
      "96/96 [==============================] - 9s 93ms/step - loss: 0.4962 - Accuracy: 0.8629 - val_loss: 0.6788 - val_Accuracy: 0.7433\n",
      "Epoch 19/100\n",
      "96/96 [==============================] - 9s 94ms/step - loss: 0.4724 - Accuracy: 0.8632 - val_loss: 0.6815 - val_Accuracy: 0.7387\n",
      "Epoch 20/100\n",
      "96/96 [==============================] - 9s 92ms/step - loss: 0.4540 - Accuracy: 0.8680 - val_loss: 0.6346 - val_Accuracy: 0.7584\n",
      "Epoch 21/100\n",
      "96/96 [==============================] - 9s 93ms/step - loss: 0.4441 - Accuracy: 0.8688 - val_loss: 0.6112 - val_Accuracy: 0.7492\n",
      "Epoch 22/100\n",
      "96/96 [==============================] - 9s 93ms/step - loss: 0.4316 - Accuracy: 0.8662 - val_loss: 0.6098 - val_Accuracy: 0.7479\n",
      "Epoch 23/100\n",
      "96/96 [==============================] - 9s 92ms/step - loss: 0.4240 - Accuracy: 0.8632 - val_loss: 0.5974 - val_Accuracy: 0.7485\n",
      "Epoch 24/100\n",
      "96/96 [==============================] - 9s 93ms/step - loss: 0.4198 - Accuracy: 0.8626 - val_loss: 0.6517 - val_Accuracy: 0.7315\n",
      "Epoch 25/100\n",
      "96/96 [==============================] - 9s 93ms/step - loss: 0.4064 - Accuracy: 0.8709 - val_loss: 0.6311 - val_Accuracy: 0.7472\n",
      "Epoch 26/100\n",
      "96/96 [==============================] - 9s 93ms/step - loss: 0.3998 - Accuracy: 0.8745 - val_loss: 0.6111 - val_Accuracy: 0.7498\n",
      "Epoch 27/100\n",
      "96/96 [==============================] - 9s 92ms/step - loss: 0.3862 - Accuracy: 0.8829 - val_loss: 0.6192 - val_Accuracy: 0.7413\n",
      "Epoch 28/100\n",
      "96/96 [==============================] - 9s 92ms/step - loss: 0.3785 - Accuracy: 0.8865 - val_loss: 0.6301 - val_Accuracy: 0.7426\n"
     ]
    }
   ],
   "source": [
    "y_train = train_df['target']\n",
    "lr = ReduceLROnPlateau(\n",
    "    monitor='val_loss',\n",
    "    factor=0.25,\n",
    "    patience=3,\n",
    "    verbose=0,\n",
    "    mode='min'\n",
    ")\n",
    "\n",
    "chk_point = ModelCheckpoint(\n",
    "    '/kaggle/working/best_model.h5',\n",
    "    monitor='val_loss',\n",
    "    verbose=0,\n",
    "    save_best_only=True,\n",
    "    mode='min'\n",
    ")\n",
    "\n",
    "es = EarlyStopping(\n",
    "    patience=5,\n",
    "    min_delta=0,\n",
    "    monitor='val_loss',\n",
    "    #restore_best_weights=True,\n",
    "    verbose=0,\n",
    "    mode='min',\n",
    "    baseline=None\n",
    ")\n",
    "\n",
    "history = model.fit(\n",
    "    x_train, y_train,\n",
    "    validation_split=0.2,\n",
    "    batch_size=64,\n",
    "    epochs = 100,\n",
    "    callbacks=[es,lr,chk_point],\n",
    "    shuffle=True,\n",
    "    verbose=1\n",
    ")"
   ]
  },
  {
   "cell_type": "code",
   "execution_count": 10,
   "id": "fb5b0c9b",
   "metadata": {
    "execution": {
     "iopub.execute_input": "2022-04-08T06:04:10.829409Z",
     "iopub.status.busy": "2022-04-08T06:04:10.828583Z",
     "iopub.status.idle": "2022-04-08T06:04:15.468500Z",
     "shell.execute_reply": "2022-04-08T06:04:15.468913Z",
     "shell.execute_reply.started": "2022-04-08T05:57:09.157333Z"
    },
    "papermill": {
     "duration": 5.365961,
     "end_time": "2022-04-08T06:04:15.469067",
     "exception": false,
     "start_time": "2022-04-08T06:04:10.103106",
     "status": "completed"
    },
    "tags": []
   },
   "outputs": [
    {
     "data": {
      "image/png": "[encoded data removed]",
      "text/plain": [
       "<Figure size 432x288 with 1 Axes>"
      ]
     },
     "metadata": {
      "needs_background": "light"
     },
     "output_type": "display_data"
    }
   ],
   "source": [
    "# Reference: https://www.pluralsight.com/guides/data-visualization-deep-learning-model-using-matplotlib\n",
    "plt.plot(history.history['Accuracy'])\n",
    "plt.plot(history.history['val_Accuracy'])\n",
    "plt.title('Model accuracy')\n",
    "plt.ylabel('accuracy')\n",
    "plt.xlabel('epochs')\n",
    "plt.legend(['train', 'val'], loc='upper left')\n",
    "plt.show()"
   ]
  },
  {
   "cell_type": "code",
   "execution_count": 11,
   "id": "c8030bae",
   "metadata": {
    "execution": {
     "iopub.execute_input": "2022-04-08T06:04:16.931293Z",
     "iopub.status.busy": "2022-04-08T06:04:16.930448Z",
     "iopub.status.idle": "2022-04-08T06:04:17.108538Z",
     "shell.execute_reply": "2022-04-08T06:04:17.109031Z",
     "shell.execute_reply.started": "2022-04-08T05:57:13.662737Z"
    },
    "papermill": {
     "duration": 0.90596,
     "end_time": "2022-04-08T06:04:17.109197",
     "exception": false,
     "start_time": "2022-04-08T06:04:16.203237",
     "status": "completed"
    },
    "tags": []
   },
   "outputs": [
    {
     "data": {
      "image/png": "[encoded data removed]",
      "text/plain": [
       "<Figure size 432x288 with 1 Axes>"
      ]
     },
     "metadata": {
      "needs_background": "light"
     },
     "output_type": "display_data"
    }
   ],
   "source": [
    "plt.plot(history.history['loss'])\n",
    "plt.plot(history.history['val_loss'])\n",
    "plt.title('Model loss')\n",
    "plt.ylabel('loss')\n",
    "plt.xlabel('epochs')\n",
    "plt.legend(['train', 'val'], loc='upper left')\n",
    "plt.show()"
   ]
  },
  {
   "cell_type": "code",
   "execution_count": 12,
   "id": "ebc7d4b7",
   "metadata": {
    "execution": {
     "iopub.execute_input": "2022-04-08T06:04:18.560535Z",
     "iopub.status.busy": "2022-04-08T06:04:18.559735Z",
     "iopub.status.idle": "2022-04-08T06:04:20.525692Z",
     "shell.execute_reply": "2022-04-08T06:04:20.526111Z",
     "shell.execute_reply.started": "2022-04-08T05:57:15.135046Z"
    },
    "papermill": {
     "duration": 2.690272,
     "end_time": "2022-04-08T06:04:20.526258",
     "exception": false,
     "start_time": "2022-04-08T06:04:17.835986",
     "status": "completed"
    },
    "tags": []
   },
   "outputs": [
    {
     "name": "stderr",
     "output_type": "stream",
     "text": [
      "100%|██████████| 3263/3263 [00:01<00:00, 1687.08it/s]\n"
     ]
    },
    {
     "data": {
      "text/html": [
       "<div>\n",
       "<style scoped>\n",
       "    .dataframe tbody tr th:only-of-type {\n",
       "        vertical-align: middle;\n",
       "    }\n",
       "\n",
       "    .dataframe tbody tr th {\n",
       "        vertical-align: top;\n",
       "    }\n",
       "\n",
       "    .dataframe thead th {\n",
       "        text-align: right;\n",
       "    }\n",
       "</style>\n",
       "<table border=\"1\" class=\"dataframe\">\n",
       "  <thead>\n",
       "    <tr style=\"text-align: right;\">\n",
       "      <th></th>\n",
       "      <th>id</th>\n",
       "      <th>keyword</th>\n",
       "      <th>location</th>\n",
       "      <th>text</th>\n",
       "    </tr>\n",
       "  </thead>\n",
       "  <tbody>\n",
       "    <tr>\n",
       "      <th>0</th>\n",
       "      <td>0</td>\n",
       "      <td>NaN</td>\n",
       "      <td>NaN</td>\n",
       "      <td>happened terrible car crash</td>\n",
       "    </tr>\n",
       "    <tr>\n",
       "      <th>1</th>\n",
       "      <td>2</td>\n",
       "      <td>NaN</td>\n",
       "      <td>NaN</td>\n",
       "      <td>heard earthquake different cities stay safe ev...</td>\n",
       "    </tr>\n",
       "    <tr>\n",
       "      <th>2</th>\n",
       "      <td>3</td>\n",
       "      <td>NaN</td>\n",
       "      <td>NaN</td>\n",
       "      <td>forest fire spot pond geese fleeing across str...</td>\n",
       "    </tr>\n",
       "    <tr>\n",
       "      <th>3</th>\n",
       "      <td>9</td>\n",
       "      <td>NaN</td>\n",
       "      <td>NaN</td>\n",
       "      <td>apocalypse lighting spokane wildfires</td>\n",
       "    </tr>\n",
       "    <tr>\n",
       "      <th>4</th>\n",
       "      <td>11</td>\n",
       "      <td>NaN</td>\n",
       "      <td>NaN</td>\n",
       "      <td>typhoon soudelor kills 28 china taiwan</td>\n",
       "    </tr>\n",
       "  </tbody>\n",
       "</table>\n",
       "</div>"
      ],
      "text/plain": [
       "   id keyword location                                               text\n",
       "0   0     NaN      NaN                        happened terrible car crash\n",
       "1   2     NaN      NaN  heard earthquake different cities stay safe ev...\n",
       "2   3     NaN      NaN  forest fire spot pond geese fleeing across str...\n",
       "3   9     NaN      NaN              apocalypse lighting spokane wildfires\n",
       "4  11     NaN      NaN             typhoon soudelor kills 28 china taiwan"
      ]
     },
     "execution_count": 12,
     "metadata": {},
     "output_type": "execute_result"
    }
   ],
   "source": [
    "test_df = pd.read_csv('../input/nlp-getting-started/test.csv')\n",
    "test_df['text'] = [data_cleaner(test_df['text'][i]) for i in tqdm(range(test_df.shape[0]))]\n",
    "test_df.head()"
   ]
  },
  {
   "cell_type": "code",
   "execution_count": 13,
   "id": "4caa7f88",
   "metadata": {
    "execution": {
     "iopub.execute_input": "2022-04-08T06:04:22.107843Z",
     "iopub.status.busy": "2022-04-08T06:04:22.105117Z",
     "iopub.status.idle": "2022-04-08T06:04:22.130250Z",
     "shell.execute_reply": "2022-04-08T06:04:22.129618Z",
     "shell.execute_reply.started": "2022-04-08T05:57:24.763626Z"
    },
    "papermill": {
     "duration": 0.794483,
     "end_time": "2022-04-08T06:04:22.130408",
     "exception": false,
     "start_time": "2022-04-08T06:04:21.335925",
     "status": "completed"
    },
    "tags": []
   },
   "outputs": [
    {
     "name": "stdout",
     "output_type": "stream",
     "text": [
      "generated pad sequences\n"
     ]
    }
   ],
   "source": [
    "text = test_df['text']\n",
    "x_test = tokenizer.texts_to_sequences(text.values)\n",
    "x_test = pad_sequences(x_test, maxlen=256)\n",
    "print('generated pad sequences')"
   ]
  },
  {
   "cell_type": "code",
   "execution_count": 14,
   "id": "05640c11",
   "metadata": {
    "execution": {
     "iopub.execute_input": "2022-04-08T06:04:23.590005Z",
     "iopub.status.busy": "2022-04-08T06:04:23.589130Z",
     "iopub.status.idle": "2022-04-08T06:04:29.404278Z",
     "shell.execute_reply": "2022-04-08T06:04:29.404756Z",
     "shell.execute_reply.started": "2022-04-08T05:57:25.797790Z"
    },
    "papermill": {
     "duration": 6.555054,
     "end_time": "2022-04-08T06:04:29.404922",
     "exception": false,
     "start_time": "2022-04-08T06:04:22.849868",
     "status": "completed"
    },
    "tags": []
   },
   "outputs": [],
   "source": [
    "model = load_model('./best_model.h5')\n",
    "preds = model.predict(x_test)\n",
    "pred = [1 if i>0.5 else 0 for i in preds]"
   ]
  },
  {
   "cell_type": "code",
   "execution_count": 15,
   "id": "f33c3d7a",
   "metadata": {
    "execution": {
     "iopub.execute_input": "2022-04-08T06:04:31.180727Z",
     "iopub.status.busy": "2022-04-08T06:04:31.179140Z",
     "iopub.status.idle": "2022-04-08T06:04:31.181322Z",
     "shell.execute_reply": "2022-04-08T06:04:31.181719Z",
     "shell.execute_reply.started": "2022-04-08T05:57:37.848199Z"
    },
    "papermill": {
     "duration": 0.760677,
     "end_time": "2022-04-08T06:04:31.181884",
     "exception": false,
     "start_time": "2022-04-08T06:04:30.421207",
     "status": "completed"
    },
    "tags": []
   },
   "outputs": [],
   "source": [
    "submission=pd.DataFrame()\n",
    "submission['id']=test_df['id'].to_list()\n",
    "submission['target']=pred"
   ]
  },
  {
   "cell_type": "code",
   "execution_count": 16,
   "id": "251fdf3d",
   "metadata": {
    "execution": {
     "iopub.execute_input": "2022-04-08T06:04:32.630476Z",
     "iopub.status.busy": "2022-04-08T06:04:32.629641Z",
     "iopub.status.idle": "2022-04-08T06:04:32.643208Z",
     "shell.execute_reply": "2022-04-08T06:04:32.643574Z",
     "shell.execute_reply.started": "2022-04-08T05:57:39.175132Z"
    },
    "papermill": {
     "duration": 0.736985,
     "end_time": "2022-04-08T06:04:32.643727",
     "exception": false,
     "start_time": "2022-04-08T06:04:31.906742",
     "status": "completed"
    },
    "tags": []
   },
   "outputs": [
    {
     "data": {
      "text/html": [
       "<div>\n",
       "<style scoped>\n",
       "    .dataframe tbody tr th:only-of-type {\n",
       "        vertical-align: middle;\n",
       "    }\n",
       "\n",
       "    .dataframe tbody tr th {\n",
       "        vertical-align: top;\n",
       "    }\n",
       "\n",
       "    .dataframe thead th {\n",
       "        text-align: right;\n",
       "    }\n",
       "</style>\n",
       "<table border=\"1\" class=\"dataframe\">\n",
       "  <thead>\n",
       "    <tr style=\"text-align: right;\">\n",
       "      <th></th>\n",
       "      <th>id</th>\n",
       "      <th>target</th>\n",
       "    </tr>\n",
       "  </thead>\n",
       "  <tbody>\n",
       "    <tr>\n",
       "      <th>0</th>\n",
       "      <td>0</td>\n",
       "      <td>1</td>\n",
       "    </tr>\n",
       "    <tr>\n",
       "      <th>1</th>\n",
       "      <td>2</td>\n",
       "      <td>1</td>\n",
       "    </tr>\n",
       "    <tr>\n",
       "      <th>2</th>\n",
       "      <td>3</td>\n",
       "      <td>1</td>\n",
       "    </tr>\n",
       "    <tr>\n",
       "      <th>3</th>\n",
       "      <td>9</td>\n",
       "      <td>0</td>\n",
       "    </tr>\n",
       "    <tr>\n",
       "      <th>4</th>\n",
       "      <td>11</td>\n",
       "      <td>1</td>\n",
       "    </tr>\n",
       "  </tbody>\n",
       "</table>\n",
       "</div>"
      ],
      "text/plain": [
       "   id  target\n",
       "0   0       1\n",
       "1   2       1\n",
       "2   3       1\n",
       "3   9       0\n",
       "4  11       1"
      ]
     },
     "execution_count": 16,
     "metadata": {},
     "output_type": "execute_result"
    }
   ],
   "source": [
    "submission.to_csv('submission.csv',index=False)\n",
    "submission.head()"
   ]
  },
  {
   "cell_type": "code",
   "execution_count": null,
   "id": "adb0dcef",
   "metadata": {
    "papermill": {
     "duration": 1.216903,
     "end_time": "2022-04-08T06:04:34.588933",
     "exception": false,
     "start_time": "2022-04-08T06:04:33.372030",
     "status": "completed"
    },
    "tags": []
   },
   "outputs": [],
   "source": []
  }
 ],
 "metadata": {
  "kernelspec": {
   "display_name": "Python 3",
   "language": "python",
   "name": "python3"
  },
  "language_info": {
   "codemirror_mode": {
    "name": "ipython",
    "version": 3
   },
   "file_extension": ".py",
   "mimetype": "text/x-python",
   "name": "python",
   "nbconvert_exporter": "python",
   "pygments_lexer": "ipython3",
   "version": "3.7.12"
  },
  "papermill": {
   "default_parameters": {},
   "duration": 315.661082,
   "end_time": "2022-04-08T06:04:38.777575",
   "environment_variables": {},
   "exception": null,
   "input_path": "__notebook__.ipynb",
   "output_path": "__notebook__.ipynb",
   "parameters": {},
   "start_time": "2022-04-08T05:59:23.116493",
   "version": "2.3.3"
  }
 },
 "nbformat": 4,
 "nbformat_minor": 5
}
